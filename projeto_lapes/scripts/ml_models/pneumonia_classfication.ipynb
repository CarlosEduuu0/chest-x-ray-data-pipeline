{
 "cells": [
  {
   "metadata": {
    "ExecuteTime": {
     "end_time": "2025-07-19T22:07:39.217910Z",
     "start_time": "2025-07-19T22:07:39.206454Z"
    }
   },
   "cell_type": "code",
   "source": [
    "import numpy as np\n",
    "import pandas as pd\n",
    "import matplotlib.pyplot as plt\n",
    "import seaborn as sns\n",
    "from tqdm import tqdm\n",
    "import os\n",
    "\n",
    "from sklearn.linear_model import LogisticRegression\n",
    "from sklearn.ensemble import RandomForestClassifier\n",
    "from sklearn.svm import SVC\n",
    "from sklearn.model_selection import train_test_split, cross_val_score, StratifiedKFold\n",
    "from sklearn.preprocessing import StandardScaler\n",
    "from sklearn.metrics import (\n",
    "    classification_report, confusion_matrix,\n",
    "    roc_auc_score, precision_recall_curve, f1_score\n",
    ")\n",
    "\n",
    "from tensorflow.keras.applications import VGG16\n",
    "from tensorflow.keras.applications.vgg16 import preprocess_input\n",
    "from tensorflow.keras.preprocessing.image import load_img, img_to_array\n",
    "import joblib\n",
    "from imblearn.over_sampling import SMOTE\n",
    "from imblearn.pipeline import Pipeline\n",
    "from sklearn.model_selection import StratifiedKFold\n",
    "from sklearn.metrics import roc_curve\n"
   ],
   "id": "90a168aee0dce069",
   "outputs": [],
   "execution_count": 93
  },
  {
   "metadata": {
    "ExecuteTime": {
     "end_time": "2025-07-19T22:07:39.265206Z",
     "start_time": "2025-07-19T22:07:39.250630Z"
    }
   },
   "cell_type": "code",
   "source": [
    "parquert_data = \"D:/projeto_lapes/datalake/gold/paciente_gold.parquet\"\n",
    "data_dir = \"D:/projeto_lapes/data/chest_x-ray/images\"\n"
   ],
   "id": "7d54b53a7ff53d94",
   "outputs": [],
   "execution_count": 94
  },
  {
   "metadata": {
    "ExecuteTime": {
     "end_time": "2025-07-19T22:07:39.389578Z",
     "start_time": "2025-07-19T22:07:39.297527Z"
    }
   },
   "cell_type": "code",
   "source": "df = pd.read_parquet(parquert_data)",
   "id": "44a3efde2ec1c087",
   "outputs": [],
   "execution_count": 95
  },
  {
   "metadata": {
    "ExecuteTime": {
     "end_time": "2025-07-19T22:07:39.436475Z",
     "start_time": "2025-07-19T22:07:39.421526Z"
    }
   },
   "cell_type": "code",
   "source": "df.head()",
   "id": "c824e0cc67690e3a",
   "outputs": [
    {
     "data": {
      "text/plain": [
       "    index_da_imagem  genero angulo_de_vista               patologia    idades  \\\n",
       "0  00000001_000.png    Male              PA            Cardiomegaly  0.606383   \n",
       "1  00000001_001.png    Male              PA  Cardiomegaly|Emphysema  0.606383   \n",
       "2  00000001_002.png    Male              PA   Cardiomegaly|Effusion  0.606383   \n",
       "3  00000002_000.png    Male              PA              No Finding  0.851064   \n",
       "4  00000003_000.png  Female              PA                  Hernia  0.851064   \n",
       "\n",
       "   largura_original  altura_original  espacamento_vertical  \\\n",
       "0          0.573398         0.475593              0.334129   \n",
       "1          0.652385         0.470259              0.334129   \n",
       "2          0.505589         0.288610              0.632458   \n",
       "3          0.505589         0.288610              0.668258   \n",
       "4          0.536140         0.540144              0.334129   \n",
       "\n",
       "   espacamento_horizontal  \n",
       "0                   0.143  \n",
       "1                   0.143  \n",
       "2                   0.168  \n",
       "3                   0.171  \n",
       "4                   0.143  "
      ],
      "text/html": [
       "<div>\n",
       "<style scoped>\n",
       "    .dataframe tbody tr th:only-of-type {\n",
       "        vertical-align: middle;\n",
       "    }\n",
       "\n",
       "    .dataframe tbody tr th {\n",
       "        vertical-align: top;\n",
       "    }\n",
       "\n",
       "    .dataframe thead th {\n",
       "        text-align: right;\n",
       "    }\n",
       "</style>\n",
       "<table border=\"1\" class=\"dataframe\">\n",
       "  <thead>\n",
       "    <tr style=\"text-align: right;\">\n",
       "      <th></th>\n",
       "      <th>index_da_imagem</th>\n",
       "      <th>genero</th>\n",
       "      <th>angulo_de_vista</th>\n",
       "      <th>patologia</th>\n",
       "      <th>idades</th>\n",
       "      <th>largura_original</th>\n",
       "      <th>altura_original</th>\n",
       "      <th>espacamento_vertical</th>\n",
       "      <th>espacamento_horizontal</th>\n",
       "    </tr>\n",
       "  </thead>\n",
       "  <tbody>\n",
       "    <tr>\n",
       "      <th>0</th>\n",
       "      <td>00000001_000.png</td>\n",
       "      <td>Male</td>\n",
       "      <td>PA</td>\n",
       "      <td>Cardiomegaly</td>\n",
       "      <td>0.606383</td>\n",
       "      <td>0.573398</td>\n",
       "      <td>0.475593</td>\n",
       "      <td>0.334129</td>\n",
       "      <td>0.143</td>\n",
       "    </tr>\n",
       "    <tr>\n",
       "      <th>1</th>\n",
       "      <td>00000001_001.png</td>\n",
       "      <td>Male</td>\n",
       "      <td>PA</td>\n",
       "      <td>Cardiomegaly|Emphysema</td>\n",
       "      <td>0.606383</td>\n",
       "      <td>0.652385</td>\n",
       "      <td>0.470259</td>\n",
       "      <td>0.334129</td>\n",
       "      <td>0.143</td>\n",
       "    </tr>\n",
       "    <tr>\n",
       "      <th>2</th>\n",
       "      <td>00000001_002.png</td>\n",
       "      <td>Male</td>\n",
       "      <td>PA</td>\n",
       "      <td>Cardiomegaly|Effusion</td>\n",
       "      <td>0.606383</td>\n",
       "      <td>0.505589</td>\n",
       "      <td>0.288610</td>\n",
       "      <td>0.632458</td>\n",
       "      <td>0.168</td>\n",
       "    </tr>\n",
       "    <tr>\n",
       "      <th>3</th>\n",
       "      <td>00000002_000.png</td>\n",
       "      <td>Male</td>\n",
       "      <td>PA</td>\n",
       "      <td>No Finding</td>\n",
       "      <td>0.851064</td>\n",
       "      <td>0.505589</td>\n",
       "      <td>0.288610</td>\n",
       "      <td>0.668258</td>\n",
       "      <td>0.171</td>\n",
       "    </tr>\n",
       "    <tr>\n",
       "      <th>4</th>\n",
       "      <td>00000003_000.png</td>\n",
       "      <td>Female</td>\n",
       "      <td>PA</td>\n",
       "      <td>Hernia</td>\n",
       "      <td>0.851064</td>\n",
       "      <td>0.536140</td>\n",
       "      <td>0.540144</td>\n",
       "      <td>0.334129</td>\n",
       "      <td>0.143</td>\n",
       "    </tr>\n",
       "  </tbody>\n",
       "</table>\n",
       "</div>"
      ]
     },
     "execution_count": 96,
     "metadata": {},
     "output_type": "execute_result"
    }
   ],
   "execution_count": 96
  },
  {
   "metadata": {
    "ExecuteTime": {
     "end_time": "2025-07-19T22:07:39.577109Z",
     "start_time": "2025-07-19T22:07:39.499867Z"
    }
   },
   "cell_type": "code",
   "source": [
    "df[\"Pneumonia\"] = df[\"patologia\"].apply(lambda x: 1 if \"Pneumonia\" in x else 0)\n",
    "\n",
    "\n",
    "df_p = df[df[\"Pneumonia\"] == 1]\n",
    "df_n = df[df[\"Pneumonia\"] == 0].sample(n=len(df_p)*3, random_state=42)\n",
    "df_bal = pd.concat([df_p, df_n]).sample(frac=1, random_state=42).reset_index(drop=True)\n"
   ],
   "id": "7be411f6de140d6f",
   "outputs": [],
   "execution_count": 97
  },
  {
   "metadata": {
    "ExecuteTime": {
     "end_time": "2025-07-19T22:07:39.656288Z",
     "start_time": "2025-07-19T22:07:39.640754Z"
    }
   },
   "cell_type": "code",
   "source": [
    "def load_images(image_paths, target_size=(224, 224), base_dir=data_dir):\n",
    "    images = []\n",
    "    for path in tqdm(image_paths):\n",
    "        try:\n",
    "            img = load_img(os.path.join(base_dir, path), target_size=target_size)\n",
    "            img = img_to_array(img)\n",
    "            img = preprocess_input(img)\n",
    "            images.append(img)\n",
    "        except Exception as e:\n",
    "            print(f\"erro ao carregar {path}: {e}\")\n",
    "            continue\n",
    "    return np.array(images)"
   ],
   "id": "ede997686011f3e8",
   "outputs": [],
   "execution_count": 98
  },
  {
   "metadata": {
    "ExecuteTime": {
     "end_time": "2025-07-19T22:08:37.425715Z",
     "start_time": "2025-07-19T22:07:39.719987Z"
    }
   },
   "cell_type": "code",
   "source": [
    "image_paths = df_bal[\"index_da_imagem\"].values\n",
    "labels = df_bal[\"Pneumonia\"].values\n",
    "\n",
    "\n",
    "X_images = load_images(image_paths)\n"
   ],
   "id": "4c329180fc140c93",
   "outputs": [
    {
     "name": "stderr",
     "output_type": "stream",
     "text": [
      "100%|██████████| 5720/5720 [00:54<00:00, 104.16it/s]\n"
     ]
    }
   ],
   "execution_count": 99
  },
  {
   "metadata": {
    "ExecuteTime": {
     "end_time": "2025-07-19T22:08:37.488295Z",
     "start_time": "2025-07-19T22:08:37.473748Z"
    }
   },
   "cell_type": "code",
   "source": "print(X_images)",
   "id": "3d023f8a4e4c3500",
   "outputs": [
    {
     "name": "stdout",
     "output_type": "stream",
     "text": [
      "[[[[-1.0393900e+02 -1.1677900e+02 -1.2368000e+02]\n",
      "   [-1.0393900e+02 -1.1677900e+02 -1.2368000e+02]\n",
      "   [-1.0393900e+02 -1.1677900e+02 -1.2368000e+02]\n",
      "   ...\n",
      "   [-9.5939003e+01 -1.0877900e+02 -1.1568000e+02]\n",
      "   [-9.4939003e+01 -1.0777900e+02 -1.1468000e+02]\n",
      "   [-9.3939003e+01 -1.0677900e+02 -1.1368000e+02]]\n",
      "\n",
      "  [[-1.0393900e+02 -1.1677900e+02 -1.2368000e+02]\n",
      "   [-1.0393900e+02 -1.1677900e+02 -1.2368000e+02]\n",
      "   [-1.0393900e+02 -1.1677900e+02 -1.2368000e+02]\n",
      "   ...\n",
      "   [-9.4939003e+01 -1.0777900e+02 -1.1468000e+02]\n",
      "   [-9.4939003e+01 -1.0777900e+02 -1.1468000e+02]\n",
      "   [-9.3939003e+01 -1.0677900e+02 -1.1368000e+02]]\n",
      "\n",
      "  [[-1.0393900e+02 -1.1677900e+02 -1.2368000e+02]\n",
      "   [-1.0393900e+02 -1.1677900e+02 -1.2368000e+02]\n",
      "   [-1.0393900e+02 -1.1677900e+02 -1.2368000e+02]\n",
      "   ...\n",
      "   [-9.5939003e+01 -1.0877900e+02 -1.1568000e+02]\n",
      "   [-9.5939003e+01 -1.0877900e+02 -1.1568000e+02]\n",
      "   [-9.4939003e+01 -1.0777900e+02 -1.1468000e+02]]\n",
      "\n",
      "  ...\n",
      "\n",
      "  [[-1.0393900e+02 -1.1677900e+02 -1.2368000e+02]\n",
      "   [-1.0393900e+02 -1.1677900e+02 -1.2368000e+02]\n",
      "   [-1.0393900e+02 -1.1677900e+02 -1.2368000e+02]\n",
      "   ...\n",
      "   [-1.0393900e+02 -1.1677900e+02 -1.2368000e+02]\n",
      "   [-1.0393900e+02 -1.1677900e+02 -1.2368000e+02]\n",
      "   [-1.0393900e+02 -1.1677900e+02 -1.2368000e+02]]\n",
      "\n",
      "  [[-1.0393900e+02 -1.1677900e+02 -1.2368000e+02]\n",
      "   [-1.0393900e+02 -1.1677900e+02 -1.2368000e+02]\n",
      "   [-1.0393900e+02 -1.1677900e+02 -1.2368000e+02]\n",
      "   ...\n",
      "   [-1.0393900e+02 -1.1677900e+02 -1.2368000e+02]\n",
      "   [-1.0393900e+02 -1.1677900e+02 -1.2368000e+02]\n",
      "   [-1.0393900e+02 -1.1677900e+02 -1.2368000e+02]]\n",
      "\n",
      "  [[-1.0393900e+02 -1.1677900e+02 -1.2368000e+02]\n",
      "   [-1.0393900e+02 -1.1677900e+02 -1.2368000e+02]\n",
      "   [-1.0393900e+02 -1.1677900e+02 -1.2368000e+02]\n",
      "   ...\n",
      "   [-1.0393900e+02 -1.1677900e+02 -1.2368000e+02]\n",
      "   [-1.0393900e+02 -1.1677900e+02 -1.2368000e+02]\n",
      "   [-1.0393900e+02 -1.1677900e+02 -1.2368000e+02]]]\n",
      "\n",
      "\n",
      " [[[-9.7939003e+01 -1.1077900e+02 -1.1768000e+02]\n",
      "   [-9.4939003e+01 -1.0777900e+02 -1.1468000e+02]\n",
      "   [-9.4939003e+01 -1.0777900e+02 -1.1468000e+02]\n",
      "   ...\n",
      "   [-9.9939003e+01 -1.1277900e+02 -1.1968000e+02]\n",
      "   [-9.9939003e+01 -1.1277900e+02 -1.1968000e+02]\n",
      "   [-9.9939003e+01 -1.1277900e+02 -1.1968000e+02]]\n",
      "\n",
      "  [[-9.1939003e+01 -1.0477900e+02 -1.1168000e+02]\n",
      "   [-9.2939003e+01 -1.0577900e+02 -1.1268000e+02]\n",
      "   [-9.1939003e+01 -1.0477900e+02 -1.1168000e+02]\n",
      "   ...\n",
      "   [-9.9939003e+01 -1.1277900e+02 -1.1968000e+02]\n",
      "   [-9.9939003e+01 -1.1277900e+02 -1.1968000e+02]\n",
      "   [-9.2939003e+01 -1.0577900e+02 -1.1268000e+02]]\n",
      "\n",
      "  [[-9.1939003e+01 -1.0477900e+02 -1.1168000e+02]\n",
      "   [-8.7939003e+01 -1.0077900e+02 -1.0768000e+02]\n",
      "   [-8.5939003e+01 -9.8778999e+01 -1.0568000e+02]\n",
      "   ...\n",
      "   [-9.9939003e+01 -1.1277900e+02 -1.1968000e+02]\n",
      "   [-9.9939003e+01 -1.1277900e+02 -1.1968000e+02]\n",
      "   [-9.9939003e+01 -1.1277900e+02 -1.1968000e+02]]\n",
      "\n",
      "  ...\n",
      "\n",
      "  [[-1.9390030e+00 -1.4778999e+01 -2.1680000e+01]\n",
      "   [ 5.0609970e+00 -7.7789993e+00 -1.4680000e+01]\n",
      "   [ 1.8060997e+01  5.2210007e+00 -1.6800003e+00]\n",
      "   ...\n",
      "   [-9.8939003e+01 -1.1177900e+02 -1.1868000e+02]\n",
      "   [-9.8939003e+01 -1.1177900e+02 -1.1868000e+02]\n",
      "   [-9.8939003e+01 -1.1177900e+02 -1.1868000e+02]]\n",
      "\n",
      "  [[ 6.0997009e-02 -1.2778999e+01 -1.9680000e+01]\n",
      "   [ 2.0609970e+00 -1.0778999e+01 -1.7680000e+01]\n",
      "   [ 1.5060997e+01  2.2210007e+00 -4.6800003e+00]\n",
      "   ...\n",
      "   [-9.8939003e+01 -1.1177900e+02 -1.1868000e+02]\n",
      "   [-9.8939003e+01 -1.1177900e+02 -1.1868000e+02]\n",
      "   [-9.8939003e+01 -1.1177900e+02 -1.1868000e+02]]\n",
      "\n",
      "  [[ 5.0609970e+00 -7.7789993e+00 -1.4680000e+01]\n",
      "   [ 1.0060997e+01 -2.7789993e+00 -9.6800003e+00]\n",
      "   [ 2.0060997e+01  7.2210007e+00  3.1999969e-01]\n",
      "   ...\n",
      "   [-9.8939003e+01 -1.1177900e+02 -1.1868000e+02]\n",
      "   [-9.8939003e+01 -1.1177900e+02 -1.1868000e+02]\n",
      "   [-9.8939003e+01 -1.1177900e+02 -1.1868000e+02]]]\n",
      "\n",
      "\n",
      " [[[ 1.4406100e+02  1.3122101e+02  1.2432000e+02]\n",
      "   [ 1.2806100e+02  1.1522100e+02  1.0832000e+02]\n",
      "   [ 8.2060997e+01  6.9221001e+01  6.2320000e+01]\n",
      "   ...\n",
      "   [-6.9939003e+01 -8.2778999e+01 -8.9680000e+01]\n",
      "   [-6.5939003e+01 -7.8778999e+01 -8.5680000e+01]\n",
      "   [-6.6939003e+01 -7.9778999e+01 -8.6680000e+01]]\n",
      "\n",
      "  [[ 1.2106100e+02  1.0822100e+02  1.0132000e+02]\n",
      "   [ 7.5060997e+01  6.2221001e+01  5.5320000e+01]\n",
      "   [ 1.0060997e+01 -2.7789993e+00 -9.6800003e+00]\n",
      "   ...\n",
      "   [-9.4939003e+01 -1.0777900e+02 -1.1468000e+02]\n",
      "   [-9.2939003e+01 -1.0577900e+02 -1.1268000e+02]\n",
      "   [-9.2939003e+01 -1.0577900e+02 -1.1268000e+02]]\n",
      "\n",
      "  [[ 4.3060997e+01  3.0221001e+01  2.3320000e+01]\n",
      "   [-1.0939003e+01 -2.3778999e+01 -3.0680000e+01]\n",
      "   [-6.1939003e+01 -7.4778999e+01 -8.1680000e+01]\n",
      "   ...\n",
      "   [-9.9939003e+01 -1.1277900e+02 -1.1968000e+02]\n",
      "   [-9.9939003e+01 -1.1277900e+02 -1.1968000e+02]\n",
      "   [-9.9939003e+01 -1.1277900e+02 -1.1968000e+02]]\n",
      "\n",
      "  ...\n",
      "\n",
      "  [[-2.8939003e+01 -4.1778999e+01 -4.8680000e+01]\n",
      "   [-6.2939003e+01 -7.5778999e+01 -8.2680000e+01]\n",
      "   [-8.7939003e+01 -1.0077900e+02 -1.0768000e+02]\n",
      "   ...\n",
      "   [-9.8939003e+01 -1.1177900e+02 -1.1868000e+02]\n",
      "   [-9.8939003e+01 -1.1177900e+02 -1.1868000e+02]\n",
      "   [-9.8939003e+01 -1.1177900e+02 -1.1868000e+02]]\n",
      "\n",
      "  [[-2.7939003e+01 -4.0778999e+01 -4.7680000e+01]\n",
      "   [-5.8939003e+01 -7.1778999e+01 -7.8680000e+01]\n",
      "   [-8.1939003e+01 -9.4778999e+01 -1.0168000e+02]\n",
      "   ...\n",
      "   [-9.7939003e+01 -1.1077900e+02 -1.1768000e+02]\n",
      "   [-9.7939003e+01 -1.1077900e+02 -1.1768000e+02]\n",
      "   [-9.7939003e+01 -1.1077900e+02 -1.1768000e+02]]\n",
      "\n",
      "  [[-2.4939003e+01 -3.7778999e+01 -4.4680000e+01]\n",
      "   [-5.4939003e+01 -6.7778999e+01 -7.4680000e+01]\n",
      "   [-7.6939003e+01 -8.9778999e+01 -9.6680000e+01]\n",
      "   ...\n",
      "   [-9.7939003e+01 -1.1077900e+02 -1.1768000e+02]\n",
      "   [-9.6939003e+01 -1.0977900e+02 -1.1668000e+02]\n",
      "   [-9.6939003e+01 -1.0977900e+02 -1.1668000e+02]]]\n",
      "\n",
      "\n",
      " ...\n",
      "\n",
      "\n",
      " [[[ 1.1106100e+02  9.8221001e+01  9.1320000e+01]\n",
      "   [ 9.3060997e+01  8.0221001e+01  7.3320000e+01]\n",
      "   [ 3.3060997e+01  2.0221001e+01  1.3320000e+01]\n",
      "   ...\n",
      "   [-7.5939003e+01 -8.8778999e+01 -9.5680000e+01]\n",
      "   [-7.4939003e+01 -8.7778999e+01 -9.4680000e+01]\n",
      "   [-7.3939003e+01 -8.6778999e+01 -9.3680000e+01]]\n",
      "\n",
      "  [[ 7.5060997e+01  6.2221001e+01  5.5320000e+01]\n",
      "   [ 2.2060997e+01  9.2210007e+00  2.3199997e+00]\n",
      "   [-3.5939003e+01 -4.8778999e+01 -5.5680000e+01]\n",
      "   ...\n",
      "   [-9.0939003e+01 -1.0377900e+02 -1.1068000e+02]\n",
      "   [-9.0939003e+01 -1.0377900e+02 -1.1068000e+02]\n",
      "   [-8.9939003e+01 -1.0277900e+02 -1.0968000e+02]]\n",
      "\n",
      "  [[-1.1939003e+01 -2.4778999e+01 -3.1680000e+01]\n",
      "   [-5.3939003e+01 -6.6778999e+01 -7.3680000e+01]\n",
      "   [-8.3939003e+01 -9.6778999e+01 -1.0368000e+02]\n",
      "   ...\n",
      "   [-9.2939003e+01 -1.0577900e+02 -1.1268000e+02]\n",
      "   [-9.2939003e+01 -1.0577900e+02 -1.1268000e+02]\n",
      "   [-9.2939003e+01 -1.0577900e+02 -1.1268000e+02]]\n",
      "\n",
      "  ...\n",
      "\n",
      "  [[-5.6939003e+01 -6.9778999e+01 -7.6680000e+01]\n",
      "   [-7.9939003e+01 -9.2778999e+01 -9.9680000e+01]\n",
      "   [-9.0939003e+01 -1.0377900e+02 -1.1068000e+02]\n",
      "   ...\n",
      "   [-9.1939003e+01 -1.0477900e+02 -1.1168000e+02]\n",
      "   [-9.1939003e+01 -1.0477900e+02 -1.1168000e+02]\n",
      "   [-9.1939003e+01 -1.0477900e+02 -1.1168000e+02]]\n",
      "\n",
      "  [[-5.6939003e+01 -6.9778999e+01 -7.6680000e+01]\n",
      "   [-7.8939003e+01 -9.1778999e+01 -9.8680000e+01]\n",
      "   [-8.9939003e+01 -1.0277900e+02 -1.0968000e+02]\n",
      "   ...\n",
      "   [-9.1939003e+01 -1.0477900e+02 -1.1168000e+02]\n",
      "   [-9.1939003e+01 -1.0477900e+02 -1.1168000e+02]\n",
      "   [-9.1939003e+01 -1.0477900e+02 -1.1168000e+02]]\n",
      "\n",
      "  [[-5.3939003e+01 -6.6778999e+01 -7.3680000e+01]\n",
      "   [-7.5939003e+01 -8.8778999e+01 -9.5680000e+01]\n",
      "   [-8.6939003e+01 -9.9778999e+01 -1.0668000e+02]\n",
      "   ...\n",
      "   [-9.1939003e+01 -1.0477900e+02 -1.1168000e+02]\n",
      "   [-9.1939003e+01 -1.0477900e+02 -1.1168000e+02]\n",
      "   [-9.0939003e+01 -1.0377900e+02 -1.1068000e+02]]]\n",
      "\n",
      "\n",
      " [[[-1.0393900e+02 -1.1677900e+02 -1.2368000e+02]\n",
      "   [-1.0393900e+02 -1.1677900e+02 -1.2368000e+02]\n",
      "   [-1.0393900e+02 -1.1677900e+02 -1.2368000e+02]\n",
      "   ...\n",
      "   [-1.0393900e+02 -1.1677900e+02 -1.2368000e+02]\n",
      "   [-1.0393900e+02 -1.1677900e+02 -1.2368000e+02]\n",
      "   [-1.0393900e+02 -1.1677900e+02 -1.2368000e+02]]\n",
      "\n",
      "  [[-1.0393900e+02 -1.1677900e+02 -1.2368000e+02]\n",
      "   [-1.0393900e+02 -1.1677900e+02 -1.2368000e+02]\n",
      "   [-1.0393900e+02 -1.1677900e+02 -1.2368000e+02]\n",
      "   ...\n",
      "   [-1.0393900e+02 -1.1677900e+02 -1.2368000e+02]\n",
      "   [-1.0393900e+02 -1.1677900e+02 -1.2368000e+02]\n",
      "   [-1.0393900e+02 -1.1677900e+02 -1.2368000e+02]]\n",
      "\n",
      "  [[-1.0393900e+02 -1.1677900e+02 -1.2368000e+02]\n",
      "   [-1.0393900e+02 -1.1677900e+02 -1.2368000e+02]\n",
      "   [-1.0393900e+02 -1.1677900e+02 -1.2368000e+02]\n",
      "   ...\n",
      "   [-1.0393900e+02 -1.1677900e+02 -1.2368000e+02]\n",
      "   [-1.0393900e+02 -1.1677900e+02 -1.2368000e+02]\n",
      "   [-1.0393900e+02 -1.1677900e+02 -1.2368000e+02]]\n",
      "\n",
      "  ...\n",
      "\n",
      "  [[-1.8939003e+01 -3.1778999e+01 -3.8680000e+01]\n",
      "   [-1.9939003e+01 -3.2778999e+01 -3.9680000e+01]\n",
      "   [-1.6939003e+01 -2.9778999e+01 -3.6680000e+01]\n",
      "   ...\n",
      "   [-5.2939003e+01 -6.5778999e+01 -7.2680000e+01]\n",
      "   [-7.3939003e+01 -8.6778999e+01 -9.3680000e+01]\n",
      "   [-4.4939003e+01 -5.7778999e+01 -6.4680000e+01]]\n",
      "\n",
      "  [[-2.3939003e+01 -3.6778999e+01 -4.3680000e+01]\n",
      "   [-2.1939003e+01 -3.4778999e+01 -4.1680000e+01]\n",
      "   [-1.9939003e+01 -3.2778999e+01 -3.9680000e+01]\n",
      "   ...\n",
      "   [-7.6939003e+01 -8.9778999e+01 -9.6680000e+01]\n",
      "   [-7.4939003e+01 -8.7778999e+01 -9.4680000e+01]\n",
      "   [-4.8939003e+01 -6.1778999e+01 -6.8680000e+01]]\n",
      "\n",
      "  [[-2.6939003e+01 -3.9778999e+01 -4.6680000e+01]\n",
      "   [-2.2939003e+01 -3.5778999e+01 -4.2680000e+01]\n",
      "   [-1.9939003e+01 -3.2778999e+01 -3.9680000e+01]\n",
      "   ...\n",
      "   [-7.6939003e+01 -8.9778999e+01 -9.6680000e+01]\n",
      "   [-6.8939003e+01 -8.1778999e+01 -8.8680000e+01]\n",
      "   [-6.6939003e+01 -7.9778999e+01 -8.6680000e+01]]]\n",
      "\n",
      "\n",
      " [[[ 1.2906100e+02  1.1622100e+02  1.0932000e+02]\n",
      "   [ 1.2806100e+02  1.1522100e+02  1.0832000e+02]\n",
      "   [ 1.2706100e+02  1.1422100e+02  1.0732000e+02]\n",
      "   ...\n",
      "   [ 1.2206100e+02  1.0922100e+02  1.0232000e+02]\n",
      "   [ 1.2406100e+02  1.1122100e+02  1.0432000e+02]\n",
      "   [ 1.2406100e+02  1.1122100e+02  1.0432000e+02]]\n",
      "\n",
      "  [[ 1.2606100e+02  1.1322100e+02  1.0632000e+02]\n",
      "   [ 1.2506100e+02  1.1222100e+02  1.0532000e+02]\n",
      "   [ 1.2606100e+02  1.1322100e+02  1.0632000e+02]\n",
      "   ...\n",
      "   [ 1.2206100e+02  1.0922100e+02  1.0232000e+02]\n",
      "   [ 1.2106100e+02  1.0822100e+02  1.0132000e+02]\n",
      "   [ 1.2206100e+02  1.0922100e+02  1.0232000e+02]]\n",
      "\n",
      "  [[ 1.2206100e+02  1.0922100e+02  1.0232000e+02]\n",
      "   [ 1.2206100e+02  1.0922100e+02  1.0232000e+02]\n",
      "   [ 1.2506100e+02  1.1222100e+02  1.0532000e+02]\n",
      "   ...\n",
      "   [ 1.2306100e+02  1.1022100e+02  1.0332000e+02]\n",
      "   [ 1.2306100e+02  1.1022100e+02  1.0332000e+02]\n",
      "   [ 1.2306100e+02  1.1022100e+02  1.0332000e+02]]\n",
      "\n",
      "  ...\n",
      "\n",
      "  [[ 6.8060997e+01  5.5221001e+01  4.8320000e+01]\n",
      "   [ 7.1060997e+01  5.8221001e+01  5.1320000e+01]\n",
      "   [ 7.1060997e+01  5.8221001e+01  5.1320000e+01]\n",
      "   ...\n",
      "   [-7.9939003e+01 -9.2778999e+01 -9.9680000e+01]\n",
      "   [-5.9939003e+01 -7.2778999e+01 -7.9680000e+01]\n",
      "   [-4.4939003e+01 -5.7778999e+01 -6.4680000e+01]]\n",
      "\n",
      "  [[ 7.3060997e+01  6.0221001e+01  5.3320000e+01]\n",
      "   [ 7.0060997e+01  5.7221001e+01  5.0320000e+01]\n",
      "   [ 7.1060997e+01  5.8221001e+01  5.1320000e+01]\n",
      "   ...\n",
      "   [-8.2939003e+01 -9.5778999e+01 -1.0268000e+02]\n",
      "   [-6.8939003e+01 -8.1778999e+01 -8.8680000e+01]\n",
      "   [-5.3939003e+01 -6.6778999e+01 -7.3680000e+01]]\n",
      "\n",
      "  [[ 7.4060997e+01  6.1221001e+01  5.4320000e+01]\n",
      "   [ 7.0060997e+01  5.7221001e+01  5.0320000e+01]\n",
      "   [ 7.0060997e+01  5.7221001e+01  5.0320000e+01]\n",
      "   ...\n",
      "   [-8.4939003e+01 -9.7778999e+01 -1.0468000e+02]\n",
      "   [-7.4939003e+01 -8.7778999e+01 -9.4680000e+01]\n",
      "   [-5.7939003e+01 -7.0778999e+01 -7.7680000e+01]]]]\n"
     ]
    }
   ],
   "execution_count": 100
  },
  {
   "metadata": {
    "ExecuteTime": {
     "end_time": "2025-07-19T22:13:26.964748Z",
     "start_time": "2025-07-19T22:08:37.536598Z"
    }
   },
   "cell_type": "code",
   "source": [
    "vgg = VGG16(weights=\"imagenet\", include_top=False, pooling=\"avg\")\n",
    "features = vgg.predict(X_images, batch_size=32)\n"
   ],
   "id": "7261fd82e4758526",
   "outputs": [
    {
     "name": "stdout",
     "output_type": "stream",
     "text": [
      "\u001B[1m179/179\u001B[0m \u001B[32m━━━━━━━━━━━━━━━━━━━━\u001B[0m\u001B[37m\u001B[0m \u001B[1m288s\u001B[0m 2s/step\n"
     ]
    }
   ],
   "execution_count": 101
  },
  {
   "metadata": {
    "ExecuteTime": {
     "end_time": "2025-07-19T22:13:27.106076Z",
     "start_time": "2025-07-19T22:13:27.044489Z"
    }
   },
   "cell_type": "code",
   "source": [
    "scaler = StandardScaler()\n",
    "X_scaled = scaler.fit_transform(features)\n"
   ],
   "id": "c8c91189f6270702",
   "outputs": [],
   "execution_count": 102
  },
  {
   "metadata": {
    "ExecuteTime": {
     "end_time": "2025-07-19T22:13:27.200713Z",
     "start_time": "2025-07-19T22:13:27.170172Z"
    }
   },
   "cell_type": "code",
   "source": "X_train, X_test, y_train, y_test = train_test_split(X_scaled, labels, test_size=0.2, random_state=42)",
   "id": "deefb5db4151387c",
   "outputs": [],
   "execution_count": 103
  },
  {
   "metadata": {
    "ExecuteTime": {
     "end_time": "2025-07-19T22:13:27.340692Z",
     "start_time": "2025-07-19T22:13:27.248867Z"
    }
   },
   "cell_type": "code",
   "source": [
    "\n",
    "\n",
    "smote = SMOTE(random_state=42)\n",
    "X_train_res, y_train_res = smote.fit_resample(X_train, y_train)"
   ],
   "id": "8502c92b6784ed02",
   "outputs": [],
   "execution_count": 104
  },
  {
   "metadata": {
    "ExecuteTime": {
     "end_time": "2025-07-19T22:13:27.417858Z",
     "start_time": "2025-07-19T22:13:27.405499Z"
    }
   },
   "cell_type": "code",
   "source": [
    "models = {\n",
    "    \"Logistic Regression\": LogisticRegression(max_iter=1000, class_weight={0:1, 1:5}),\n",
    "    \"SVM\": SVC(kernel=\"rbf\", probability=True, class_weight={0:1, 1:5}),\n",
    "    \"Random Forest\": RandomForestClassifier(n_estimators=100, class_weight={0:1, 1:5}, random_state=42)\n",
    "}"
   ],
   "id": "b9ed2b6aef018389",
   "outputs": [],
   "execution_count": 105
  },
  {
   "metadata": {
    "ExecuteTime": {
     "end_time": "2025-07-19T22:13:27.465045Z",
     "start_time": "2025-07-19T22:13:27.450526Z"
    }
   },
   "cell_type": "code",
   "source": [
    "model_names = []\n",
    "f1_means = []\n",
    "f1_stds = []"
   ],
   "id": "3dc0d5047f0e729c",
   "outputs": [],
   "execution_count": 106
  },
  {
   "metadata": {
    "ExecuteTime": {
     "end_time": "2025-07-19T22:16:48.910548Z",
     "start_time": "2025-07-19T22:13:27.513638Z"
    }
   },
   "cell_type": "code",
   "source": [
    "cv = StratifiedKFold(n_splits=5, shuffle=True, random_state=42)\n",
    "\n",
    "for name, model in models.items():\n",
    "    pipeline = Pipeline([\n",
    "        ('smote', SMOTE(random_state=42)),\n",
    "        ('clf', model)\n",
    "    ])\n",
    "    scores = cross_val_score(pipeline, X_scaled, labels, cv=cv, scoring=\"f1\")\n",
    "    print(f\"{name}: F1 médio = {scores.mean():.4f} | Desvio = {scores.std():.4f}\")\n"
   ],
   "id": "9003649661bb7fc8",
   "outputs": [
    {
     "name": "stdout",
     "output_type": "stream",
     "text": [
      "Logistic Regression: F1 médio = 0.4232 | Desvio = 0.0126\n",
      "SVM: F1 médio = 0.3949 | Desvio = 0.0272\n",
      "Random Forest: F1 médio = 0.1507 | Desvio = 0.0286\n"
     ]
    }
   ],
   "execution_count": 107
  },
  {
   "metadata": {
    "ExecuteTime": {
     "end_time": "2025-07-19T22:34:14.864767Z",
     "start_time": "2025-07-19T22:34:14.851362Z"
    }
   },
   "cell_type": "code",
   "source": [
    "save_dir = \"D:/projeto_lapes/scripts/models\"\n",
    "os.makedirs(save_dir, exist_ok=True)"
   ],
   "id": "775481d11c476abd",
   "outputs": [],
   "execution_count": 116
  },
  {
   "metadata": {
    "ExecuteTime": {
     "end_time": "2025-07-19T22:34:33.958888Z",
     "start_time": "2025-07-19T22:34:33.901280Z"
    }
   },
   "cell_type": "code",
   "source": [
    "for name, model in models.items():\n",
    "    pipeline = Pipeline([\n",
    "        ('smote', SMOTE(random_state=42)),\n",
    "        ('clf', model)\n",
    "    ])\n",
    "    filename = os.path.join(save_dir, f\"{name.replace(' ', '_').lower()}_pipeline.pkl\")\n",
    "    joblib.dump(pipeline, filename)\n",
    "    print(f\" Pipeline salvo em: {filename}\")"
   ],
   "id": "9fa2ac1d13c58a57",
   "outputs": [
    {
     "name": "stdout",
     "output_type": "stream",
     "text": [
      " Pipeline salvo em: D:/projeto_lapes/scripts/models\\logistic_regression_pipeline.pkl\n",
      " Pipeline salvo em: D:/projeto_lapes/scripts/models\\svm_pipeline.pkl\n",
      " Pipeline salvo em: D:/projeto_lapes/scripts/models\\random_forest_pipeline.pkl\n"
     ]
    }
   ],
   "execution_count": 117
  },
  {
   "metadata": {},
   "cell_type": "code",
   "outputs": [],
   "execution_count": null,
   "source": [
    "best_model = LogisticRegression(max_iter=1000, class_weight={0:1, 1:5}, random_state=42)\n",
    "best_model.fit(X_train, y_train)\n",
    "\n",
    "\n",
    "y_probs = best_model.predict_proba(X_test)[:, 1]\n",
    "\n",
    "threshold = 0.2\n",
    "y_pred = (y_probs > threshold).astype(int)\n",
    "\n",
    "\n",
    "print(\"\\n=== Classification Report ===\")\n",
    "print(classification_report(y_test, y_pred))\n",
    "\n"
   ],
   "id": "a6d23f21c1803b8f"
  },
  {
   "metadata": {
    "ExecuteTime": {
     "end_time": "2025-07-19T22:28:23.915366Z",
     "start_time": "2025-07-19T22:28:23.820544Z"
    }
   },
   "cell_type": "code",
   "source": [
    "cm = confusion_matrix(y_test, y_pred)\n",
    "labels_cm = [\"Sem Pneumonia\", \"Com Pneumonia\"]\n",
    "\n",
    "plt.figure(figsize=(6, 5))\n",
    "sns.heatmap(cm, annot=True, fmt='d', cmap=\"Blues\", xticklabels=labels_cm, yticklabels=labels_cm)\n",
    "plt.xlabel(\"Predito\")\n",
    "plt.ylabel(\"Real\")\n",
    "plt.title(\"matriz de confusao - pneumonia\")\n",
    "plt.show()"
   ],
   "id": "dcfe1b13c88775af",
   "outputs": [
    {
     "data": {
      "text/plain": [
       "<Figure size 600x500 with 2 Axes>"
      ],
      "image/png": "[encoded data removed]"
     },
     "metadata": {},
     "output_type": "display_data"
    }
   ],
   "execution_count": 112
  },
  {
   "metadata": {
    "ExecuteTime": {
     "end_time": "2025-07-19T22:28:26.755498Z",
     "start_time": "2025-07-19T22:28:26.664524Z"
    }
   },
   "cell_type": "code",
   "source": [
    "fpr, tpr, _ = roc_curve(y_test, y_probs)\n",
    "auc = roc_auc_score(y_test, y_probs)\n",
    "\n",
    "plt.figure()\n",
    "plt.plot(fpr, tpr, label=f\"AUC = {auc:.2f}\")\n",
    "plt.plot([0, 1], [0, 1], 'k--')\n",
    "plt.xlabel(\"FPR\")\n",
    "plt.ylabel(\"TPR\")\n",
    "plt.title(\"Curva ROC - Pneumonia\")\n",
    "plt.legend()\n",
    "plt.grid()\n",
    "plt.show()\n"
   ],
   "id": "b04d72f5e91e868",
   "outputs": [
    {
     "data": {
      "text/plain": [
       "<Figure size 640x480 with 1 Axes>"
      ],
      "image/png": "[encoded data removed]"
     },
     "metadata": {},
     "output_type": "display_data"
    }
   ],
   "execution_count": 113
  }
 ],
 "metadata": {
  "kernelspec": {
   "display_name": "Python 3",
   "language": "python",
   "name": "python3"
  },
  "language_info": {
   "codemirror_mode": {
    "name": "ipython",
    "version": 2
   },
   "file_extension": ".py",
   "mimetype": "text/x-python",
   "name": "python",
   "nbconvert_exporter": "python",
   "pygments_lexer": "ipython2",
   "version": "2.7.6"
  }
 },
 "nbformat": 4,
 "nbformat_minor": 5
}
